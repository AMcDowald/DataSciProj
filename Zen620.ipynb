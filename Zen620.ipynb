{
 "cells": [
  {
   "cell_type": "code",
   "execution_count": null,
   "metadata": {
    "collapsed": true
   },
   "outputs": [],
   "source": [
    "author=\"The Zen of Python, by Tim Peters\"\n",
    "input_line=\"In the face of ambiguity, refuse the temptation to guess. Although that way may not be obvious at first unless you're Dutch. Now is better than never. %s\"%author\n",
    "print(\"The user entered %s\\nThere are %s words\" %(input_line, len(input_line.split())))\n",
    "def count_words(input_line):\n",
    "    count = {}\n",
    "    words = input_line.split()\n",
    "    for word in words:\n",
    "        if word in count:\n",
    "            count[word.lower()] += 1 \n",
    "        else:\n",
    "            count[word.lower()] = 1\n",
    "    return count\n",
    "print(count_words(input_line))"
   ]
  }
 ],
 "metadata": {
  "kernelspec": {
   "display_name": "Python 2",
   "language": "python",
   "name": "python2"
  },
  "language_info": {
   "codemirror_mode": {
    "name": "ipython",
    "version": 2
   },
   "file_extension": ".py",
   "mimetype": "text/x-python",
   "name": "python",
   "nbconvert_exporter": "python",
   "pygments_lexer": "ipython2",
   "version": "2.7.6"
  }
 },
 "nbformat": 4,
 "nbformat_minor": 0
}
