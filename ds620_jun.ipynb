{
 "cells": [
  {
   "cell_type": "code",
   "execution_count": null,
   "metadata": {
    "collapsed": true
   },
   "outputs": [],
   "source": [
    "\n",
    "person_name=\"Anthony mcDowald\"#This is used in message variable\n",
    "famous_person= 'Juvenal'# Author to our quote\n",
    "quote='All wish to possess knowledge, but few, comparatively speaking, are willing to pay the price.'\n",
    "name_with_whitspace=\" Tony\\t McD\\n *\"#this has the white spaces\n",
    "\n",
    "#inserting string variables into Python string\n",
    "message=\"Welcome %s, This is Python!\" % person_name\n",
    "message2='title: %s\\ncaps:%s\\nlower:%s' % (person_name.title(), person_name.upper(),person_name.lower())\n",
    "message3='The author %s once said, \\\"%s\\\"' % (famous_person, quote)\n",
    "message4='with white space: %s\\nlstrip:%s\\nrstrip:%s\\nstrip:%s' % (name_with_whitspace,name_with_whitspace.lstrip(), name_with_whitspace.rstrip(),name_with_whitspace.strip())\n",
    "array=[message,message2,message3,message4] #Creating an array of strings\n",
    "\n",
    "print '\\n\\n'.join([message for message in array]) #printing an array of strings joined by two new lines"
   ]
  }
 ],
 "metadata": {
  "kernelspec": {
   "display_name": "Python 2",
   "language": "python",
   "name": "python2"
  },
  "language_info": {
   "codemirror_mode": {
    "name": "ipython",
    "version": 2
   },
   "file_extension": ".py",
   "mimetype": "text/x-python",
   "name": "python",
   "nbconvert_exporter": "python",
   "pygments_lexer": "ipython2",
   "version": "2.7.6"
  }
 },
 "nbformat": 4,
 "nbformat_minor": 0
}
