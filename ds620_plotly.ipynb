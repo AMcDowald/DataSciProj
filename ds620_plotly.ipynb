{
 "cells": [
  {
   "cell_type": "code",
   "execution_count": 6,
   "metadata": {},
   "outputs": [
    {
     "data": {
      "text/html": [
       "<a href=\"https://plot.ly/~pzhao0918/26\" target=\"_blank\"><img style=\"height: 400px;\" src=\"https://plot.ly/~pzhao0918/26.png\"></a><br><a href=\"https://plot.ly/~pzhao0918/26\" style=\"color: rgb(190,190,190); text-decoration: none; font-weight: 200;\" target=\"_blank\">Click to comment and see the interactive graph</a><br><hr><a href=\"https://plot.ly/~pzhao0918/28\" target=\"_blank\"><img style=\"height: 400px;\" src=\"https://plot.ly/~pzhao0918/28.png\"></a><br><a href=\"https://plot.ly/~pzhao0918/28\" style=\"color: rgb(190,190,190); text-decoration: none; font-weight: 200;\" target=\"_blank\">Click to comment and see the interactive graph</a><br><hr><a href=\"https://plot.ly/~pzhao0918/30\" target=\"_blank\"><img style=\"height: 400px;\" src=\"https://plot.ly/~pzhao0918/30.png\"></a><br><a href=\"https://plot.ly/~pzhao0918/30\" style=\"color: rgb(190,190,190); text-decoration: none; font-weight: 200;\" target=\"_blank\">Click to comment and see the interactive graph</a><br><hr><a href=\"https://plot.ly/~pzhao0918/42\" target=\"_blank\"><img style=\"height: 400px;\" src=\"https://plot.ly/~pzhao0918/42.png\"></a><br><a href=\"https://plot.ly/~pzhao0918/42\" style=\"color: rgb(190,190,190); text-decoration: none; font-weight: 200;\" target=\"_blank\">Click to comment and see the interactive graph</a><br><hr>"
      ],
      "text/plain": [
       "<IPython.core.display.HTML object>"
      ]
     },
     "metadata": {},
     "output_type": "display_data"
    }
   ],
   "source": [
    "graphs = [\n",
    "    'https://plot.ly/~pzhao0918/26',\n",
    "    'https://plot.ly/~pzhao0918/28',\n",
    "    'https://plot.ly/~pzhao0918/30',\n",
    "    'https://plot.ly/~pzhao0918/42'\n",
    "]\n",
    "\n",
    "from IPython.display import display, HTML\n",
    "\n",
    "def report_block_template(report_type, graph_url, caption=''):\n",
    "    if report_type == 'interactive':\n",
    "        graph_block = '<iframe style=\"border: none;\" src=\"{graph_url}.embed\" width=\"100%\" height=\"600px\"></iframe>'\n",
    "    elif report_type == 'static':\n",
    "        graph_block = (''\n",
    "            '<a href=\"{graph_url}\" target=\"_blank\">' # Open the interactive graph when you click on the image\n",
    "                '<img style=\"height: 400px;\" src=\"{graph_url}.png\">'\n",
    "            '</a>')\n",
    "\n",
    "    report_block = ('' +\n",
    "        graph_block +\n",
    "        '{caption}' + # Optional caption to include below the graph\n",
    "        '<br>'      + # Line break\n",
    "        '<a href=\"{graph_url}\" style=\"color: rgb(190,190,190); text-decoration: none; font-weight: 200;\" target=\"_blank\">'+\n",
    "            'Click to comment and see the interactive graph' + # Direct readers to Plotly for commenting, interactive graph\n",
    "        '</a>' +\n",
    "        '<br>' +\n",
    "        '<hr>') # horizontal line\n",
    "\n",
    "    return report_block.format(graph_url=graph_url, caption=caption)\n",
    "\n",
    "\n",
    "interactive_report = ''\n",
    "static_report = ''\n",
    "\n",
    "for graph_url in graphs:\n",
    "    _static_block = report_block_template('static', graph_url, caption='')\n",
    "    _interactive_block = report_block_template('interactive', graph_url, caption='')\n",
    "\n",
    "    static_report += _static_block\n",
    "    interactive_report += _interactive_block\n",
    "    \n",
    "\n",
    "display(HTML(static_report))"
   ]
  },
  {
   "cell_type": "code",
   "execution_count": null,
   "metadata": {},
   "outputs": [],
   "source": []
  }
 ],
 "metadata": {
  "kernelspec": {
   "display_name": "Python 2",
   "language": "python",
   "name": "python2"
  },
  "language_info": {
   "codemirror_mode": {
    "name": "ipython",
    "version": 2
   },
   "file_extension": ".py",
   "mimetype": "text/x-python",
   "name": "python",
   "nbconvert_exporter": "python",
   "pygments_lexer": "ipython2",
   "version": "2.7.6"
  }
 },
 "nbformat": 4,
 "nbformat_minor": 1
}
